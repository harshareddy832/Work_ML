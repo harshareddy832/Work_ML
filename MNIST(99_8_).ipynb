{
  "nbformat": 4,
  "nbformat_minor": 0,
  "metadata": {
    "colab": {
      "name": "MNIST(99.8%).ipynb",
      "provenance": []
    },
    "kernelspec": {
      "name": "python3",
      "display_name": "Python 3"
    },
    "language_info": {
      "name": "python"
    }
  },
  "cells": [
    {
      "cell_type": "code",
      "metadata": {
        "id": "Sz2BdZdIIxT4"
      },
      "source": [
        "import tensorflow as tf\n",
        "mnist=tf.keras.datasets.mnist"
      ],
      "execution_count": null,
      "outputs": []
    },
    {
      "cell_type": "code",
      "metadata": {
        "id": "fm8JxTJCRANt"
      },
      "source": [
        "(train_x,train_y),(test_x,test_y)=mnist.load_data(path='mnist.npz')"
      ],
      "execution_count": null,
      "outputs": []
    },
    {
      "cell_type": "code",
      "metadata": {
        "id": "KPDTw1J_ReQQ"
      },
      "source": [
        "des=0.998\n",
        "class myCallback(tf.keras.callbacks.Callback):\n",
        "        def on_epoch_end(self, epoch, logs={}):\n",
        "            if(logs.get('accuracy')>=des):\n",
        "                print(\"\\nReached 99.8% accuracy so cancelling training, Master Wayne!\")\n",
        "                self.model.stop_training = True"
      ],
      "execution_count": 19,
      "outputs": []
    },
    {
      "cell_type": "code",
      "metadata": {
        "id": "ERLlZAd6RiAs"
      },
      "source": [
        "#callbacks=myCallback()\n",
        "train_x=train_x.reshape(60000,28,28,1)\n",
        "train_x=train_x/255.0\n",
        "test_x=test_x.reshape(10000,28,28,1)\n",
        "test_x=test_x/255.0"
      ],
      "execution_count": 7,
      "outputs": []
    },
    {
      "cell_type": "code",
      "metadata": {
        "id": "WWmwGX3AVI26"
      },
      "source": [
        "model = tf.keras.models.Sequential([\n",
        "            # YOUR CODE STARTS HERE\n",
        "            tf.keras.layers.Conv2D(64, (3,3), activation='relu', input_shape=(28, 28, 1)),\n",
        "            tf.keras.layers.MaxPooling2D(2, 2),\n",
        "            tf.keras.layers.Conv2D(64, (3,3), activation='relu'),\n",
        "            tf.keras.layers.MaxPooling2D(2,2),\n",
        "            tf.keras.layers.Flatten(),\n",
        "            tf.keras.layers.Dense(128, activation='relu'),\n",
        "            tf.keras.layers.Dense(10, activation='softmax')\n",
        "            # YOUR CODE ENDS HERE\n",
        "    ])"
      ],
      "execution_count": 15,
      "outputs": []
    },
    {
      "cell_type": "code",
      "metadata": {
        "colab": {
          "base_uri": "https://localhost:8080/"
        },
        "id": "HkZ5XVyUWGjl",
        "outputId": "e45f9e29-8626-4547-e158-31b60b6a77a3"
      },
      "source": [
        "model.compile(optimizer='adam',loss='sparse_categorical_crossentropy',metrics=['accuracy'])\n",
        "model.fit(train_x,train_y,epochs=3)"
      ],
      "execution_count": 22,
      "outputs": [
        {
          "output_type": "stream",
          "name": "stdout",
          "text": [
            "Epoch 1/3\n",
            "1875/1875 [==============================] - 76s 40ms/step - loss: 0.0189 - accuracy: 0.9941\n",
            "Epoch 2/3\n",
            "1875/1875 [==============================] - 75s 40ms/step - loss: 0.0120 - accuracy: 0.9963\n",
            "Epoch 3/3\n",
            "1875/1875 [==============================] - 75s 40ms/step - loss: 0.0098 - accuracy: 0.9967\n"
          ]
        },
        {
          "output_type": "execute_result",
          "data": {
            "text/plain": [
              "<keras.callbacks.History at 0x7f62d91c68d0>"
            ]
          },
          "metadata": {},
          "execution_count": 22
        }
      ]
    },
    {
      "cell_type": "code",
      "metadata": {
        "colab": {
          "base_uri": "https://localhost:8080/"
        },
        "id": "FutwyqdRW7-N",
        "outputId": "023e296f-aca2-48ea-bdd7-b929a6f2d26a"
      },
      "source": [
        "model.evaluate(test_x,test_y)"
      ],
      "execution_count": 23,
      "outputs": [
        {
          "output_type": "stream",
          "name": "stdout",
          "text": [
            "313/313 [==============================] - 3s 10ms/step - loss: 0.0317 - accuracy: 0.9924\n"
          ]
        },
        {
          "output_type": "execute_result",
          "data": {
            "text/plain": [
              "[0.03173664212226868, 0.9923999905586243]"
            ]
          },
          "metadata": {},
          "execution_count": 23
        }
      ]
    }
  ]
}