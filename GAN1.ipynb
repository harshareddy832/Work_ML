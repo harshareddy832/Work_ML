{
  "nbformat": 4,
  "nbformat_minor": 0,
  "metadata": {
    "colab": {
      "name": "GAN1.ipynb",
      "provenance": []
    },
    "kernelspec": {
      "name": "python3",
      "display_name": "Python 3"
    },
    "language_info": {
      "name": "python"
    }
  },
  "cells": [
    {
      "cell_type": "code",
      "execution_count": 1,
      "metadata": {
        "id": "q2OHguuVIw8j"
      },
      "outputs": [],
      "source": [
        "import tensorflow as tf\n",
        "import matplotlib.pyplot as plt\n",
        "import numpy as np\n",
        "import time"
      ]
    },
    {
      "cell_type": "code",
      "source": [
        "(train_images, train_labels), (test_images,test_labels) = tf.keras.datasets.mnist.load_data()"
      ],
      "metadata": {
        "colab": {
          "base_uri": "https://localhost:8080/"
        },
        "id": "LNWqJ6hJLTGd",
        "outputId": "8df102f0-1eca-42cc-e2fe-13031a60935c"
      },
      "execution_count": 3,
      "outputs": [
        {
          "output_type": "stream",
          "name": "stdout",
          "text": [
            "Downloading data from https://storage.googleapis.com/tensorflow/tf-keras-datasets/mnist.npz\n",
            "11493376/11490434 [==============================] - 0s 0us/step\n",
            "11501568/11490434 [==============================] - 0s 0us/step\n"
          ]
        }
      ]
    },
    {
      "cell_type": "code",
      "source": [
        "plt.imshow(train_images[0])"
      ],
      "metadata": {
        "colab": {
          "base_uri": "https://localhost:8080/",
          "height": 282
        },
        "id": "2ERuYcG7Lpap",
        "outputId": "3fe5cc55-a070-49dc-f08d-babca82c741d"
      },
      "execution_count": 4,
      "outputs": [
        {
          "output_type": "execute_result",
          "data": {
            "text/plain": [
              "<matplotlib.image.AxesImage at 0x7f1f6ab37e90>"
            ]
          },
          "metadata": {},
          "execution_count": 4
        },
        {
          "output_type": "display_data",
          "data": {
            "image/png": "[encoded data removed]",
            "text/plain": [
              "<Figure size 432x288 with 1 Axes>"
            ]
          },
          "metadata": {
            "needs_background": "light"
          }
        }
      ]
    },
    {
      "cell_type": "code",
      "source": [
        "train_images= train_images.reshape(train_images.shape[0],28,28,1)"
      ],
      "metadata": {
        "id": "1TaUKGG4Lznu"
      },
      "execution_count": 6,
      "outputs": []
    },
    {
      "cell_type": "code",
      "source": [
        "train_images=(train_images-127.5)/127.5"
      ],
      "metadata": {
        "id": "7PDRkROWL20s"
      },
      "execution_count": 7,
      "outputs": []
    },
    {
      "cell_type": "code",
      "source": [
        "BUFFER_SIZE=train_images.shape[0]\n",
        "BATCH_SIZE=100\n",
        "train_dataset = tf.data.Dataset.from_tensor_slices(train_images).shuffle(BUFFER_SIZE).batch(BATCH_SIZE)"
      ],
      "metadata": {
        "id": "LdYM8DL8MWyN"
      },
      "execution_count": 8,
      "outputs": []
    },
    {
      "cell_type": "markdown",
      "source": [
        "# DISCRIMINATOR MODEL"
      ],
      "metadata": {
        "id": "EeVpB4DTM6iu"
      }
    },
    {
      "cell_type": "code",
      "source": [
        "def make_discriminator_model():\n",
        "  model=tf.keras.Sequential()\n",
        "  model.add(tf.keras.layers.Conv2D(7,(3,3),padding='same',input_shape=(28,28,1)))\n",
        "  model.add(tf.keras.layers.Flatten())\n",
        "  model.add(tf.keras.layers.LeakyReLU())\n",
        "  model.add(tf.keras.layers.Dense(50,activation='relu'))\n",
        "  model.add(tf.keras.layers.Dense(1))\n",
        "  return model"
      ],
      "metadata": {
        "id": "Q3aRRa6YM4zq"
      },
      "execution_count": 11,
      "outputs": []
    },
    {
      "cell_type": "code",
      "source": [
        "model_descriminator = make_discriminator_model()"
      ],
      "metadata": {
        "id": "9y8WKC58N56M"
      },
      "execution_count": 12,
      "outputs": []
    },
    {
      "cell_type": "code",
      "source": [
        "model_descriminator(np.random.rand(1,28,28,1).astype('float32'))"
      ],
      "metadata": {
        "colab": {
          "base_uri": "https://localhost:8080/"
        },
        "id": "lv7E-Y81OAKg",
        "outputId": "2fc220ad-062d-44a0-c89a-156caedaf5b9"
      },
      "execution_count": 13,
      "outputs": [
        {
          "output_type": "execute_result",
          "data": {
            "text/plain": [
              "<tf.Tensor: shape=(1, 1), dtype=float32, numpy=array([[0.24457456]], dtype=float32)>"
            ]
          },
          "metadata": {},
          "execution_count": 13
        }
      ]
    },
    {
      "cell_type": "code",
      "source": [
        "discriminator_optimizer = tf.optimizers.Adam(1e-3)"
      ],
      "metadata": {
        "id": "fpRPXA5COUXc"
      },
      "execution_count": 14,
      "outputs": []
    },
    {
      "cell_type": "code",
      "source": [
        "def get_discriminator_loss(real_predictions,fake_predictions):\n",
        "  real_predictions=tf.sigmoid(real_predictions)\n",
        "  fake_predictions=tf.sigmoid(fake_predictions)\n",
        "  real_loss = tf.losses.binary_crossentropy(tf.ones_like(real_predictions),real_predictions)\n",
        "  fake_loss = tf.losses.binary_crossentropy(tf.zeros_like(fake_predictions),fake_predictions)\n",
        "  return fake_loss+real_loss"
      ],
      "metadata": {
        "id": "B960JkdsOems"
      },
      "execution_count": 15,
      "outputs": []
    },
    {
      "cell_type": "markdown",
      "source": [
        "# GENERATOR MODEL"
      ],
      "metadata": {
        "id": "aa4X82zCPOpS"
      }
    },
    {
      "cell_type": "code",
      "source": [
        "def make_generator_model():\n",
        "  model=tf.keras.Sequential()\n",
        "  model.add(tf.keras.layers.Dense(7*7*256,input_shape=(100,)))\n",
        "  model.add(tf.keras.layers.BatchNormalization())\n",
        "  model.add(tf.keras.layers.Reshape((7,7,256)))\n",
        "  model.add(tf.keras.layers.Conv2DTranspose(128,(3,3),padding='same'))\n",
        "  model.add(tf.keras.layers.BatchNormalization())\n",
        "  model.add(tf.keras.layers.Conv2DTranspose(64,(3,3),strides=(2,2),padding='same'))\n",
        "  model.add(tf.keras.layers.BatchNormalization())\n",
        "  model.add(tf.keras.layers.Conv2DTranspose(1,(3,3),strides=(2,2),padding='same'))\n",
        "  return model"
      ],
      "metadata": {
        "id": "hUSWzFsyPNlJ"
      },
      "execution_count": 23,
      "outputs": []
    },
    {
      "cell_type": "code",
      "source": [
        "generator = make_generator_model()"
      ],
      "metadata": {
        "id": "PMIT0Jk1Py8m"
      },
      "execution_count": 24,
      "outputs": []
    },
    {
      "cell_type": "code",
      "source": [
        "generator_optimizer = tf.optimizers.Adam(1e-4)"
      ],
      "metadata": {
        "id": "tedRV-NWRA9q"
      },
      "execution_count": 25,
      "outputs": []
    },
    {
      "cell_type": "code",
      "source": [
        "def get_generator_loss(fake_predictions):\n",
        "  fake_predictions=tf.sigmoid(fake_predictions)\n",
        "  fake_loss=tf.losses.binary_crossentropy(tf.ones_like(fake_predictions),fake_predictions)\n",
        "  return fake_loss"
      ],
      "metadata": {
        "id": "kIQT9dZSR-Pr"
      },
      "execution_count": 26,
      "outputs": []
    },
    {
      "cell_type": "markdown",
      "source": [
        "# TRAINING"
      ],
      "metadata": {
        "id": "bdd4MMp6SXn2"
      }
    },
    {
      "cell_type": "code",
      "source": [
        "def train(dataset,epochs):\n",
        "  for _ in range(epochs):\n",
        "    for images in dataset:\n",
        "      images=tf.cast(images,tf.dtypes.float32)\n",
        "      train_step(images)"
      ],
      "metadata": {
        "id": "wJy0riLTSWbP"
      },
      "execution_count": 27,
      "outputs": []
    },
    {
      "cell_type": "code",
      "source": [
        "def train_step(images):\n",
        "  fake_image_noise=np.random.randn(BATCH_SIZE,100).astype('float32')\n",
        "  with tf.GradientTape() as gen_tape, tf.GradientTape() as disc_tape:\n",
        "    generated_images= generator(fake_image_noise)\n",
        "    real_output= model_descriminator(images)\n",
        "    fake_output= model_descriminator(generated_images)\n",
        "\n",
        "    gen_loss=get_generator_loss(fake_output)\n",
        "    disc_loss=get_discriminator_loss(real_output,fake_output)\n",
        "\n",
        "    gradients_of_generator = gen_tape.gradient(gen_loss,generator.trainable_variables)\n",
        "    gradients_of_discriminator =  disc_tape.gradient(disc_loss,model_descriminator.trainable_variables)\n",
        "\n",
        "    generator_optimizer.apply_gradients(zip(gradients_of_generator,generator.trainable_variables))\n",
        "    discriminator_optimizer.apply_gradients(zip(gradients_of_discriminator,model_descriminator.trainable_variables))\n",
        "\n",
        "    print('generator loss', np.mean(gen_loss))\n",
        "    print('Discriminator loss', np.mean(disc_loss))"
      ],
      "metadata": {
        "id": "oFyVUfspSz9K"
      },
      "execution_count": 29,
      "outputs": []
    },
    {
      "cell_type": "code",
      "source": [
        "train(train_dataset,2)"
      ],
      "metadata": {
        "colab": {
          "base_uri": "https://localhost:8080/",
          "height": 1000
        },
        "id": "tcr_kbR0Vj2U",
        "outputId": "a507d5cf-d59e-4a53-8394-6bd67b7fbcd4"
      },
      "execution_count": 31,
      "outputs": [
        {
          "output_type": "stream",
          "name": "stdout",
          "text": [
            "generator loss 0.6897042\n",
            "Discriminator loss 1.4835062\n",
            "generator loss 0.6859799\n",
            "Discriminator loss 0.7198375\n",
            "generator loss 0.6931382\n",
            "Discriminator loss 0.69466245\n",
            "generator loss 0.709691\n",
            "Discriminator loss 0.677184\n",
            "generator loss 0.7293161\n",
            "Discriminator loss 0.65851176\n",
            "generator loss 0.7578304\n",
            "Discriminator loss 0.63270825\n",
            "generator loss 0.7901924\n",
            "Discriminator loss 0.60499614\n",
            "generator loss 0.83006287\n",
            "Discriminator loss 0.57297397\n",
            "generator loss 0.8816442\n",
            "Discriminator loss 0.53511614\n",
            "generator loss 0.93959725\n",
            "Discriminator loss 0.49623185\n",
            "generator loss 1.0020733\n",
            "Discriminator loss 0.4582157\n",
            "generator loss 1.0851996\n",
            "Discriminator loss 0.4128911\n",
            "generator loss 1.1759248\n",
            "Discriminator loss 0.36997998\n",
            "generator loss 1.2750821\n",
            "Discriminator loss 0.32903928\n",
            "generator loss 1.387954\n",
            "Discriminator loss 0.28864333\n",
            "generator loss 1.5219508\n",
            "Discriminator loss 0.24762039\n",
            "generator loss 1.6444459\n",
            "Discriminator loss 0.21616717\n",
            "generator loss 1.831244\n",
            "Discriminator loss 0.1765224\n",
            "generator loss 2.00803\n",
            "Discriminator loss 0.14599237\n",
            "generator loss 2.1915424\n",
            "Discriminator loss 0.119895354\n",
            "generator loss 2.3561742\n",
            "Discriminator loss 0.10112273\n",
            "generator loss 2.5856342\n",
            "Discriminator loss 0.07976429\n",
            "generator loss 2.8205671\n",
            "Discriminator loss 0.06304556\n",
            "generator loss 3.0677395\n",
            "Discriminator loss 0.048980698\n",
            "generator loss 3.3058376\n",
            "Discriminator loss 0.038693886\n",
            "generator loss 3.5124545\n",
            "Discriminator loss 0.031250525\n",
            "generator loss 3.8058243\n",
            "Discriminator loss 0.023730235\n",
            "generator loss 4.020024\n",
            "Discriminator loss 0.019040948\n",
            "generator loss 4.317648\n",
            "Discriminator loss 0.014197532\n",
            "generator loss 4.4871635\n",
            "Discriminator loss 0.011934382\n",
            "generator loss 4.764719\n",
            "Discriminator loss 0.009244547\n",
            "generator loss 4.971626\n",
            "Discriminator loss 0.007484498\n",
            "generator loss 5.241049\n",
            "Discriminator loss 0.005899653\n",
            "generator loss 5.413365\n",
            "Discriminator loss 0.0068585007\n",
            "generator loss 5.6108003\n",
            "Discriminator loss 0.0044291005\n",
            "generator loss 5.7423472\n",
            "Discriminator loss 0.011326594\n",
            "generator loss 5.8152876\n",
            "Discriminator loss 0.014046715\n",
            "generator loss 5.847878\n",
            "Discriminator loss 0.0037984774\n",
            "generator loss 5.81255\n",
            "Discriminator loss 0.0033859443\n",
            "generator loss 5.8426104\n",
            "Discriminator loss 0.0058165146\n",
            "generator loss 5.8035717\n",
            "Discriminator loss 0.0035748025\n",
            "generator loss 5.617492\n",
            "Discriminator loss 0.0044815624\n",
            "generator loss 5.4650416\n",
            "Discriminator loss 0.0053690155\n",
            "generator loss 5.298207\n",
            "Discriminator loss 0.008683821\n",
            "generator loss 5.1157756\n",
            "Discriminator loss 0.011626089\n",
            "generator loss 4.928419\n",
            "Discriminator loss 0.017345397\n",
            "generator loss 4.9366894\n",
            "Discriminator loss 0.021535428\n",
            "generator loss 4.97365\n",
            "Discriminator loss 0.022444246\n",
            "generator loss 5.3821173\n",
            "Discriminator loss 0.012931914\n",
            "generator loss 5.732132\n",
            "Discriminator loss 0.011759174\n",
            "generator loss 6.4415374\n",
            "Discriminator loss 0.015407002\n",
            "generator loss 6.6935234\n",
            "Discriminator loss 0.022291802\n",
            "generator loss 6.9567976\n",
            "Discriminator loss 0.013249743\n",
            "generator loss 6.0632687\n",
            "Discriminator loss 0.014996072\n",
            "generator loss 6.042239\n",
            "Discriminator loss 0.028932512\n",
            "generator loss 6.722287\n",
            "Discriminator loss 0.009561552\n",
            "generator loss 7.0182652\n",
            "Discriminator loss 0.0076982747\n",
            "generator loss 7.236839\n",
            "Discriminator loss 0.040329576\n",
            "generator loss 7.5605626\n",
            "Discriminator loss 0.009491352\n",
            "generator loss 7.2477446\n",
            "Discriminator loss 0.00793653\n",
            "generator loss 6.745752\n",
            "Discriminator loss 0.0077764564\n",
            "generator loss 6.3374066\n",
            "Discriminator loss 0.012726715\n",
            "generator loss 7.4340906\n",
            "Discriminator loss 0.004199064\n",
            "generator loss 7.9407744\n",
            "Discriminator loss 0.0042109247\n",
            "generator loss 8.419567\n",
            "Discriminator loss 0.004878129\n",
            "generator loss 8.461534\n",
            "Discriminator loss 0.008239388\n",
            "generator loss 8.158965\n",
            "Discriminator loss 0.005045629\n",
            "generator loss 8.007118\n",
            "Discriminator loss 0.0045277034\n",
            "generator loss 7.8364067\n",
            "Discriminator loss 0.009580684\n",
            "generator loss 7.6870008\n",
            "Discriminator loss 0.0067434497\n",
            "generator loss 7.6141176\n",
            "Discriminator loss 0.0073067653\n",
            "generator loss 8.202907\n",
            "Discriminator loss 0.006734653\n",
            "generator loss 8.524875\n",
            "Discriminator loss 0.023724882\n"
          ]
        },
        {
          "output_type": "error",
          "ename": "KeyboardInterrupt",
          "evalue": "ignored",
          "traceback": [
            "\u001b[0;31m---------------------------------------------------------------------------\u001b[0m",
            "\u001b[0;31mKeyboardInterrupt\u001b[0m                         Traceback (most recent call last)",
            "\u001b[0;32m<ipython-input-31-148d16354fc6>\u001b[0m in \u001b[0;36m<module>\u001b[0;34m()\u001b[0m\n\u001b[0;32m----> 1\u001b[0;31m \u001b[0mtrain\u001b[0m\u001b[0;34m(\u001b[0m\u001b[0mtrain_dataset\u001b[0m\u001b[0;34m,\u001b[0m\u001b[0;36m2\u001b[0m\u001b[0;34m)\u001b[0m\u001b[0;34m\u001b[0m\u001b[0;34m\u001b[0m\u001b[0m\n\u001b[0m",
            "\u001b[0;32m<ipython-input-27-9e145e3ada73>\u001b[0m in \u001b[0;36mtrain\u001b[0;34m(dataset, epochs)\u001b[0m\n\u001b[1;32m      3\u001b[0m     \u001b[0;32mfor\u001b[0m \u001b[0mimages\u001b[0m \u001b[0;32min\u001b[0m \u001b[0mdataset\u001b[0m\u001b[0;34m:\u001b[0m\u001b[0;34m\u001b[0m\u001b[0;34m\u001b[0m\u001b[0m\n\u001b[1;32m      4\u001b[0m       \u001b[0mimages\u001b[0m\u001b[0;34m=\u001b[0m\u001b[0mtf\u001b[0m\u001b[0;34m.\u001b[0m\u001b[0mcast\u001b[0m\u001b[0;34m(\u001b[0m\u001b[0mimages\u001b[0m\u001b[0;34m,\u001b[0m\u001b[0mtf\u001b[0m\u001b[0;34m.\u001b[0m\u001b[0mdtypes\u001b[0m\u001b[0;34m.\u001b[0m\u001b[0mfloat32\u001b[0m\u001b[0;34m)\u001b[0m\u001b[0;34m\u001b[0m\u001b[0;34m\u001b[0m\u001b[0m\n\u001b[0;32m----> 5\u001b[0;31m       \u001b[0mtrain_step\u001b[0m\u001b[0;34m(\u001b[0m\u001b[0mimages\u001b[0m\u001b[0;34m)\u001b[0m\u001b[0;34m\u001b[0m\u001b[0;34m\u001b[0m\u001b[0m\n\u001b[0m",
            "\u001b[0;32m<ipython-input-29-916e3099236d>\u001b[0m in \u001b[0;36mtrain_step\u001b[0;34m(images)\u001b[0m\n\u001b[1;32m     10\u001b[0m \u001b[0;34m\u001b[0m\u001b[0m\n\u001b[1;32m     11\u001b[0m     \u001b[0mgradients_of_generator\u001b[0m \u001b[0;34m=\u001b[0m \u001b[0mgen_tape\u001b[0m\u001b[0;34m.\u001b[0m\u001b[0mgradient\u001b[0m\u001b[0;34m(\u001b[0m\u001b[0mgen_loss\u001b[0m\u001b[0;34m,\u001b[0m\u001b[0mgenerator\u001b[0m\u001b[0;34m.\u001b[0m\u001b[0mtrainable_variables\u001b[0m\u001b[0;34m)\u001b[0m\u001b[0;34m\u001b[0m\u001b[0;34m\u001b[0m\u001b[0m\n\u001b[0;32m---> 12\u001b[0;31m     \u001b[0mgradients_of_discriminator\u001b[0m \u001b[0;34m=\u001b[0m  \u001b[0mdisc_tape\u001b[0m\u001b[0;34m.\u001b[0m\u001b[0mgradient\u001b[0m\u001b[0;34m(\u001b[0m\u001b[0mdisc_loss\u001b[0m\u001b[0;34m,\u001b[0m\u001b[0mmodel_descriminator\u001b[0m\u001b[0;34m.\u001b[0m\u001b[0mtrainable_variables\u001b[0m\u001b[0;34m)\u001b[0m\u001b[0;34m\u001b[0m\u001b[0;34m\u001b[0m\u001b[0m\n\u001b[0m\u001b[1;32m     13\u001b[0m \u001b[0;34m\u001b[0m\u001b[0m\n\u001b[1;32m     14\u001b[0m     \u001b[0mgenerator_optimizer\u001b[0m\u001b[0;34m.\u001b[0m\u001b[0mapply_gradients\u001b[0m\u001b[0;34m(\u001b[0m\u001b[0mzip\u001b[0m\u001b[0;34m(\u001b[0m\u001b[0mgradients_of_generator\u001b[0m\u001b[0;34m,\u001b[0m\u001b[0mgenerator\u001b[0m\u001b[0;34m.\u001b[0m\u001b[0mtrainable_variables\u001b[0m\u001b[0;34m)\u001b[0m\u001b[0;34m)\u001b[0m\u001b[0;34m\u001b[0m\u001b[0;34m\u001b[0m\u001b[0m\n",
            "\u001b[0;32m/usr/local/lib/python3.7/dist-packages/tensorflow/python/eager/backprop.py\u001b[0m in \u001b[0;36mgradient\u001b[0;34m(self, target, sources, output_gradients, unconnected_gradients)\u001b[0m\n\u001b[1;32m   1088\u001b[0m         \u001b[0moutput_gradients\u001b[0m\u001b[0;34m=\u001b[0m\u001b[0moutput_gradients\u001b[0m\u001b[0;34m,\u001b[0m\u001b[0;34m\u001b[0m\u001b[0;34m\u001b[0m\u001b[0m\n\u001b[1;32m   1089\u001b[0m         \u001b[0msources_raw\u001b[0m\u001b[0;34m=\u001b[0m\u001b[0mflat_sources_raw\u001b[0m\u001b[0;34m,\u001b[0m\u001b[0;34m\u001b[0m\u001b[0;34m\u001b[0m\u001b[0m\n\u001b[0;32m-> 1090\u001b[0;31m         unconnected_gradients=unconnected_gradients)\n\u001b[0m\u001b[1;32m   1091\u001b[0m \u001b[0;34m\u001b[0m\u001b[0m\n\u001b[1;32m   1092\u001b[0m     \u001b[0;32mif\u001b[0m \u001b[0;32mnot\u001b[0m \u001b[0mself\u001b[0m\u001b[0;34m.\u001b[0m\u001b[0m_persistent\u001b[0m\u001b[0;34m:\u001b[0m\u001b[0;34m\u001b[0m\u001b[0;34m\u001b[0m\u001b[0m\n",
            "\u001b[0;32m/usr/local/lib/python3.7/dist-packages/tensorflow/python/eager/imperative_grad.py\u001b[0m in \u001b[0;36mimperative_grad\u001b[0;34m(tape, target, sources, output_gradients, sources_raw, unconnected_gradients)\u001b[0m\n\u001b[1;32m     75\u001b[0m       \u001b[0moutput_gradients\u001b[0m\u001b[0;34m,\u001b[0m\u001b[0;34m\u001b[0m\u001b[0;34m\u001b[0m\u001b[0m\n\u001b[1;32m     76\u001b[0m       \u001b[0msources_raw\u001b[0m\u001b[0;34m,\u001b[0m\u001b[0;34m\u001b[0m\u001b[0;34m\u001b[0m\u001b[0m\n\u001b[0;32m---> 77\u001b[0;31m       compat.as_str(unconnected_gradients.value))\n\u001b[0m",
            "\u001b[0;32m/usr/local/lib/python3.7/dist-packages/tensorflow/python/eager/backprop.py\u001b[0m in \u001b[0;36m_gradient_function\u001b[0;34m(op_name, attr_tuple, num_inputs, inputs, outputs, out_grads, skip_input_indices, forward_pass_name_scope)\u001b[0m\n\u001b[1;32m    157\u001b[0m       \u001b[0mgradient_name_scope\u001b[0m \u001b[0;34m+=\u001b[0m \u001b[0mforward_pass_name_scope\u001b[0m \u001b[0;34m+\u001b[0m \u001b[0;34m\"/\"\u001b[0m\u001b[0;34m\u001b[0m\u001b[0;34m\u001b[0m\u001b[0m\n\u001b[1;32m    158\u001b[0m     \u001b[0;32mwith\u001b[0m \u001b[0mops\u001b[0m\u001b[0;34m.\u001b[0m\u001b[0mname_scope\u001b[0m\u001b[0;34m(\u001b[0m\u001b[0mgradient_name_scope\u001b[0m\u001b[0;34m)\u001b[0m\u001b[0;34m:\u001b[0m\u001b[0;34m\u001b[0m\u001b[0;34m\u001b[0m\u001b[0m\n\u001b[0;32m--> 159\u001b[0;31m       \u001b[0;32mreturn\u001b[0m \u001b[0mgrad_fn\u001b[0m\u001b[0;34m(\u001b[0m\u001b[0mmock_op\u001b[0m\u001b[0;34m,\u001b[0m \u001b[0;34m*\u001b[0m\u001b[0mout_grads\u001b[0m\u001b[0;34m)\u001b[0m\u001b[0;34m\u001b[0m\u001b[0;34m\u001b[0m\u001b[0m\n\u001b[0m\u001b[1;32m    160\u001b[0m   \u001b[0;32melse\u001b[0m\u001b[0;34m:\u001b[0m\u001b[0;34m\u001b[0m\u001b[0;34m\u001b[0m\u001b[0m\n\u001b[1;32m    161\u001b[0m     \u001b[0;32mreturn\u001b[0m \u001b[0mgrad_fn\u001b[0m\u001b[0;34m(\u001b[0m\u001b[0mmock_op\u001b[0m\u001b[0;34m,\u001b[0m \u001b[0;34m*\u001b[0m\u001b[0mout_grads\u001b[0m\u001b[0;34m)\u001b[0m\u001b[0;34m\u001b[0m\u001b[0;34m\u001b[0m\u001b[0m\n",
            "\u001b[0;32m/usr/local/lib/python3.7/dist-packages/tensorflow/python/ops/nn_grad.py\u001b[0m in \u001b[0;36m_Conv2DBackpropInputGrad\u001b[0;34m(op, grad)\u001b[0m\n\u001b[1;32m     61\u001b[0m           \u001b[0mexplicit_paddings\u001b[0m\u001b[0;34m=\u001b[0m\u001b[0mop\u001b[0m\u001b[0;34m.\u001b[0m\u001b[0mget_attr\u001b[0m\u001b[0;34m(\u001b[0m\u001b[0;34m\"explicit_paddings\"\u001b[0m\u001b[0;34m)\u001b[0m\u001b[0;34m,\u001b[0m\u001b[0;34m\u001b[0m\u001b[0;34m\u001b[0m\u001b[0m\n\u001b[1;32m     62\u001b[0m           \u001b[0muse_cudnn_on_gpu\u001b[0m\u001b[0;34m=\u001b[0m\u001b[0mop\u001b[0m\u001b[0;34m.\u001b[0m\u001b[0mget_attr\u001b[0m\u001b[0;34m(\u001b[0m\u001b[0;34m\"use_cudnn_on_gpu\"\u001b[0m\u001b[0;34m)\u001b[0m\u001b[0;34m,\u001b[0m\u001b[0;34m\u001b[0m\u001b[0;34m\u001b[0m\u001b[0m\n\u001b[0;32m---> 63\u001b[0;31m           data_format=op.get_attr(\"data_format\").decode())\n\u001b[0m\u001b[1;32m     64\u001b[0m   ]\n\u001b[1;32m     65\u001b[0m \u001b[0;34m\u001b[0m\u001b[0m\n",
            "\u001b[0;32m/usr/local/lib/python3.7/dist-packages/tensorflow/python/ops/gen_nn_ops.py\u001b[0m in \u001b[0;36mconv2d\u001b[0;34m(input, filter, strides, padding, use_cudnn_on_gpu, explicit_paddings, data_format, dilations, name)\u001b[0m\n\u001b[1;32m    927\u001b[0m         \u001b[0;34m\"use_cudnn_on_gpu\"\u001b[0m\u001b[0;34m,\u001b[0m \u001b[0muse_cudnn_on_gpu\u001b[0m\u001b[0;34m,\u001b[0m \u001b[0;34m\"padding\"\u001b[0m\u001b[0;34m,\u001b[0m \u001b[0mpadding\u001b[0m\u001b[0;34m,\u001b[0m\u001b[0;34m\u001b[0m\u001b[0;34m\u001b[0m\u001b[0m\n\u001b[1;32m    928\u001b[0m         \u001b[0;34m\"explicit_paddings\"\u001b[0m\u001b[0;34m,\u001b[0m \u001b[0mexplicit_paddings\u001b[0m\u001b[0;34m,\u001b[0m \u001b[0;34m\"data_format\"\u001b[0m\u001b[0;34m,\u001b[0m \u001b[0mdata_format\u001b[0m\u001b[0;34m,\u001b[0m\u001b[0;34m\u001b[0m\u001b[0;34m\u001b[0m\u001b[0m\n\u001b[0;32m--> 929\u001b[0;31m         \"dilations\", dilations)\n\u001b[0m\u001b[1;32m    930\u001b[0m       \u001b[0;32mreturn\u001b[0m \u001b[0m_result\u001b[0m\u001b[0;34m\u001b[0m\u001b[0;34m\u001b[0m\u001b[0m\n\u001b[1;32m    931\u001b[0m     \u001b[0;32mexcept\u001b[0m \u001b[0m_core\u001b[0m\u001b[0;34m.\u001b[0m\u001b[0m_NotOkStatusException\u001b[0m \u001b[0;32mas\u001b[0m \u001b[0me\u001b[0m\u001b[0;34m:\u001b[0m\u001b[0;34m\u001b[0m\u001b[0;34m\u001b[0m\u001b[0m\n",
            "\u001b[0;31mKeyboardInterrupt\u001b[0m: "
          ]
        }
      ]
    },
    {
      "cell_type": "code",
      "source": [
        ""
      ],
      "metadata": {
        "id": "9tl-FGZiV4Hp"
      },
      "execution_count": null,
      "outputs": []
    }
  ]
}